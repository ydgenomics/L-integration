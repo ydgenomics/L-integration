{
 "cells": [
  {
   "cell_type": "markdown",
   "metadata": {},
   "source": [
    "# title: \"Integrative analysis in Seurat v5\"\n",
    "[github](https://github.com/satijalab/seurat/blob/HEAD/vignettes/seurat5_integration.Rmd)"
   ]
  },
  {
   "cell_type": "code",
   "execution_count": null,
   "metadata": {
    "vscode": {
     "languageId": "plaintext"
    }
   },
   "outputs": [],
   "source": [
    "library(Seurat)\n",
    "library(SeuratData)\n",
    "library(SeuratWrappers)\n",
    "library(Azimuth)\n",
    "library(ggplot2)\n",
    "library(patchwork)\n",
    "options(future.globals.maxSize = 1e9)"
   ]
  },
  {
   "cell_type": "markdown",
   "metadata": {},
   "source": [
    "## Introduction\n",
    "Integration of single-cell sequencing datasets, for example across experimental batches, donors, or conditions, is often an important step in scRNA-seq workflows. Integrative analysis can help to match shared cell types and states across datasets, which can boost statistical power, and most importantly, facilitate accurate comparative analysis across datasets. In previous versions of Seurat we introduced methods for integrative analysis, including our ‘anchor-based’ integration workflow. Many labs have also published powerful and pioneering methods, including [Harmony](https://github.com/immunogenomics/harmony) and [scVI](https://yoseflab.github.io/software/scvi-tools/), for integrative analysis. \n",
    "We recognize that while the goal of matching shared cell types across datasets may be important for many problems, users may also be concerned about which method to use, or that integration could result in a loss of biological resolution. In Seurat v5, we introduce more flexible and streamlined infrastructure to run different integration algorithms with a single line of code. This makes it easier to explore the results of different integration methods, and to compare these results to a workflow that excludes integration steps.\n",
    "For this vignette, we use a [dataset of human PBMC profiled with seven different technologies](https://www.nature.com/articles/s41587-020-0465-8), profiled as part of a systematic comparative analysis (`pbmcsca`). The data is available as part of our [SeuratData](https://github.com/satijalab/seurat-data) package. \n",
    "\n",
    "## Layers in the Seurat v5 object\n",
    "Seurat v5 assays store data in layers. These layers can store raw, un-normalized counts (`layer='counts'`), normalized data (`layer='data'`), or z-scored/variance-stabilized data (`layer='scale.data'`). We can load in the data, remove low-quality cells, and obtain predicted cell annotations (which will be useful for assessing integration later), using our [Azimuth pipeline](https://satijalab.github.io/azimuth/articles/run_azimuth_tutorial.html)."
   ]
  },
  {
   "cell_type": "code",
   "execution_count": null,
   "metadata": {
    "vscode": {
     "languageId": "plaintext"
    }
   },
   "outputs": [],
   "source": [
    "obj <- readRDS(input_file)"
   ]
  },
  {
   "cell_type": "code",
   "execution_count": null,
   "metadata": {
    "vscode": {
     "languageId": "plaintext"
    }
   },
   "outputs": [],
   "source": [
    "obj[[\"RNA\"]] <- split(obj[[\"RNA\"]], f = obj$Method)\n",
    "obj\n",
    "obj <- NormalizeData(obj)\n",
    "obj <- FindVariableFeatures(obj)\n",
    "obj <- ScaleData(obj)\n",
    "obj <- RunPCA(obj)"
   ]
  },
  {
   "cell_type": "markdown",
   "metadata": {},
   "source": [
    "We can now visualize the results of a standard analysis without integration. Note that cells are grouping both by cell type and by underlying method. While a UMAP analysis is just a visualization of this, clustering this dataset would return predominantly batch-specific clusters. Especially if previous cell-type annotations were not available, this would make downstream analysis extremely challenging.  "
   ]
  },
  {
   "cell_type": "code",
   "execution_count": null,
   "metadata": {
    "vscode": {
     "languageId": "plaintext"
    }
   },
   "outputs": [],
   "source": [
    "obj <- FindNeighbors(obj, dims=1:30, reduction = 'pca')\n",
    "obj <- FindClusters(obj, resolution = 2, cluster.name = \"unintegrated_clusters\")\n",
    "obj <- RunUMAP(obj, dims = 1:30, reduction = 'pca', reduction.name = 'umap.unintegrated')\n",
    "# visualize by batch and cell type annotation\n",
    "# cell type annotations were previously added by Azimuth\n",
    "DimPlot(obj, reduction = 'umap.unintegrated', group.by=c('Method','predicted.celltype.l2'))"
   ]
  },
  {
   "cell_type": "markdown",
   "metadata": {},
   "source": [
    "## Perform streamlined (one-line) integrative analysis\n",
    "\n",
    "Seurat v5 enables streamlined integrative analysis using the `IntegrateLayers` function. The method currently supports five integration methods. Each of these methods performs integration in low-dimensional space, and returns a dimensional reduction (i.e. `integrated.rpca`) that aims to co-embed shared cell types across batches:\n",
    "\n",
    "* Anchor-based CCA integration (`method=CCAIntegration`)\n",
    "* Anchor-based RPCA integration (`method=RPCAIntegration`)\n",
    "* Harmony (`method=HarmonyIntegration`)\n",
    "* FastMNN (`method= FastMNNIntegration`)\n",
    "* scVI (`method=scVIIntegration`)\n",
    "\n",
    "Note that our anchor-based RPCA integration represents a faster and more conservative (less correction) method for integration. For interested users, we discuss this method in more detail in our [previous RPCA vignette](https://satijalab.org/seurat/articles/integration_rpca)\n",
    "\n",
    "You can find more detail on each method, and any installation prerequisites, in Seurat's documentation (for example, `?scVIIntegration`). For example, scVI integration requires `reticulate` which can be installed from CRAN (`install.packages(\"reticulate\")`) as well as `scvi-tools` and its dependencies installed in a conda environment. Please see scVI installation instructions [here](https://docs.scvi-tools.org/en/stable/installation.html).\n",
    "\n",
    "\n",
    "Each of the following lines perform a new integration using a single line of code:"
   ]
  },
  {
   "cell_type": "code",
   "execution_count": null,
   "metadata": {
    "vscode": {
     "languageId": "plaintext"
    }
   },
   "outputs": [],
   "source": [
    "obj <- IntegrateLayers(\n",
    "  object = obj, method = CCAIntegration,\n",
    "  orig.reduction = \"pca\", new.reduction = 'integrated.cca',\n",
    "  verbose = FALSE)"
   ]
  },
  {
   "cell_type": "code",
   "execution_count": null,
   "metadata": {
    "vscode": {
     "languageId": "plaintext"
    }
   },
   "outputs": [],
   "source": [
    "obj <- IntegrateLayers(\n",
    "  object = obj, method = RPCAIntegration,\n",
    "  orig.reduction = \"pca\", new.reduction = 'integrated.rpca',\n",
    "  verbose = FALSE)"
   ]
  },
  {
   "cell_type": "code",
   "execution_count": null,
   "metadata": {
    "vscode": {
     "languageId": "plaintext"
    }
   },
   "outputs": [],
   "source": [
    "obj <- IntegrateLayers(\n",
    "  object = obj, method = HarmonyIntegration,\n",
    "  orig.reduction = \"pca\", new.reduction = 'harmony',\n",
    "  verbose = FALSE)"
   ]
  },
  {
   "cell_type": "code",
   "execution_count": null,
   "metadata": {
    "vscode": {
     "languageId": "plaintext"
    }
   },
   "outputs": [],
   "source": [
    "obj <- IntegrateLayers(\n",
    "  object = obj, method = FastMNNIntegration,\n",
    "  new.reduction = 'integrated.mnn',\n",
    "  verbose = FALSE)"
   ]
  },
  {
   "cell_type": "code",
   "execution_count": null,
   "metadata": {
    "vscode": {
     "languageId": "plaintext"
    }
   },
   "outputs": [],
   "source": [
    "obj <- IntegrateLayers(\n",
    "  object = obj, method = scVIIntegration,\n",
    "  new.reduction = 'integrated.scvi',\n",
    "  conda_env = '../miniconda3/envs/scvi-env', verbose = FALSE)"
   ]
  },
  {
   "cell_type": "code",
   "execution_count": null,
   "metadata": {
    "vscode": {
     "languageId": "plaintext"
    }
   },
   "outputs": [],
   "source": [
    "scvi.reduc <- readRDS(\"/brahms/haoy/seurat5/object/pbmcsca_scvi.dr.rds\")@cell.embeddings\n",
    "scvi.reduc <- scvi.reduc[Cells(obj),]\n",
    "obj[[\"integrated.scvi\"]] <- CreateDimReducObject(embeddings = scvi.reduc)"
   ]
  },
  {
   "cell_type": "markdown",
   "metadata": {},
   "source": [
    "For any of the methods, we can now visualize and cluster the datasets. We show this for CCA integration and scVI, but you can do this for any method:"
   ]
  },
  {
   "cell_type": "code",
   "execution_count": null,
   "metadata": {
    "vscode": {
     "languageId": "plaintext"
    }
   },
   "outputs": [],
   "source": [
    "obj <- FindNeighbors(obj, reduction = 'integrated.cca', dims = 1:30)\n",
    "obj <- FindClusters(obj,resolution = 2, cluster.name = 'cca_clusters')\n",
    "obj <- RunUMAP(obj, reduction = \"integrated.cca\", dims = 1:30, reduction.name = 'umap.cca')\n",
    "p1 <- DimPlot(\n",
    "  obj, reduction = \"umap.cca\",\n",
    "  group.by = c(\"Method\", \"predicted.celltype.l2\", \"cca_clusters\"),\n",
    "  combine = FALSE, label.size = 2) \n",
    "\n",
    "obj <- FindNeighbors(obj, reduction = 'integrated.scvi', dims = 1:30)\n",
    "obj <- FindClusters(obj,resolution = 2, cluster.name = 'scvi_clusters')\n",
    "obj <- RunUMAP(obj, reduction = \"integrated.scvi\", dims = 1:30, reduction.name = 'umap.scvi')\n",
    "p2 <- DimPlot(\n",
    "  obj, reduction = \"umap.scvi\",\n",
    "  group.by = c(\"Method\", \"predicted.celltype.l2\", \"scvi_clusters\"),\n",
    "  combine = FALSE, label.size = 2)\n",
    "\n",
    "wrap_plots(c(p1, p2), ncol = 2, byrow = F)"
   ]
  },
  {
   "cell_type": "markdown",
   "metadata": {},
   "source": [
    "We hope that by simplifying the process of performing integrative analysis, users can more carefully evaluate the biological information retained in the integrated dataset. For example, users can compare the expression of biological markers based on different clustering solutions, or visualize one method's clustering solution on different UMAP visualizations."
   ]
  },
  {
   "cell_type": "code",
   "execution_count": null,
   "metadata": {
    "vscode": {
     "languageId": "plaintext"
    }
   },
   "outputs": [],
   "source": [
    "p1 <- VlnPlot(\n",
    "  obj, features = \"rna_CD8A\", group.by = 'unintegrated_clusters'\n",
    ") + NoLegend() + ggtitle(\"CD8A - Unintegrated Clusters\")\n",
    "p2 <- VlnPlot(\n",
    "  obj, \"rna_CD8A\", group.by = 'cca_clusters'\n",
    ") + NoLegend() + ggtitle(\"CD8A - CCA Clusters\")\n",
    "p3 <- VlnPlot(\n",
    "  obj, \"rna_CD8A\", group.by = 'scvi_clusters'\n",
    ") + NoLegend() + ggtitle(\"CD8A - scVI Clusters\")\n",
    "p1 | p2 | p3"
   ]
  },
  {
   "cell_type": "code",
   "execution_count": null,
   "metadata": {
    "vscode": {
     "languageId": "plaintext"
    }
   },
   "outputs": [],
   "source": [
    "obj <- RunUMAP(obj, reduction = \"integrated.rpca\", dims = 1:30, reduction.name = 'umap.rpca')\n",
    "p4 <- DimPlot(obj, reduction=\"umap.unintegrated\", group.by=c(\"cca_clusters\"))\n",
    "p5 <- DimPlot(obj, reduction=\"umap.rpca\", group.by=c(\"cca_clusters\"))\n",
    "p6 <- DimPlot(obj, reduction=\"umap.scvi\", group.by=c(\"cca_clusters\"))\n",
    "p4 | p5 | p6"
   ]
  },
  {
   "cell_type": "code",
   "execution_count": null,
   "metadata": {
    "vscode": {
     "languageId": "plaintext"
    }
   },
   "outputs": [],
   "source": [
    "obj <- JoinLayers(obj)\n",
    "obj"
   ]
  },
  {
   "cell_type": "markdown",
   "metadata": {},
   "source": [
    "Lastly, users can also perform integration using sctransform-normalized data (see our [SCTransform vignette](https://satijalab.org/seurat/articles/sctransform_vignette) for more information), by first running SCTransform normalization, and then setting the `normalization.method` argument in `IntegrateLayers`.\n"
   ]
  },
  {
   "cell_type": "code",
   "execution_count": null,
   "metadata": {
    "vscode": {
     "languageId": "plaintext"
    }
   },
   "outputs": [],
   "source": [
    "obj <- LoadData(\"pbmcsca\")\n",
    "obj <- subset(obj, nFeature_RNA > 1000)\n",
    "obj[[\"RNA\"]] <- split(obj[[\"RNA\"]], f = obj$Method)"
   ]
  },
  {
   "cell_type": "code",
   "execution_count": null,
   "metadata": {
    "vscode": {
     "languageId": "plaintext"
    }
   },
   "outputs": [],
   "source": [
    "options(future.globals.maxSize = 3e+09)\n",
    "obj <- SCTransform(obj)\n",
    "obj <- RunPCA(obj, npcs = 30, verbose = F)\n",
    "obj <- IntegrateLayers(object = obj, \n",
    "                           method = RPCAIntegration,\n",
    "                           normalization.method=\"SCT\",\n",
    "                           verbose = F)\n",
    "obj <- FindNeighbors(obj, dims = 1:30,reduction = 'integrated.dr')\n",
    "obj <- FindClusters(obj, resolution = 2)\n",
    "obj <- RunUMAP(obj, dims = 1:30,reduction = 'integrated.dr')"
   ]
  }
 ],
 "metadata": {
  "language_info": {
   "name": "python"
  }
 },
 "nbformat": 4,
 "nbformat_minor": 2
}
